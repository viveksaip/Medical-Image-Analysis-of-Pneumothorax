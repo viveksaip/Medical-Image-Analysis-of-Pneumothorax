{
  "nbformat": 4,
  "nbformat_minor": 0,
  "metadata": {
    "colab": {
      "name": "V_vision transformer",
      "provenance": []
    },
    "kernelspec": {
      "name": "python3",
      "display_name": "Python 3"
    },
    "language_info": {
      "name": "python"
    }
  },
  "cells": [
    {
      "cell_type": "code",
      "metadata": {
        "colab": {
          "base_uri": "https://localhost:8080/"
        },
        "id": "YIJxkZTrU0YZ",
        "outputId": "00a3f3d8-3adc-44b6-e545-d8b5819b8c4e"
      },
      "source": [
        "from google.colab import drive\n",
        "drive.mount(\"/content/drive\")"
      ],
      "execution_count": null,
      "outputs": [
        {
          "output_type": "stream",
          "text": [
            "Mounted at /content/drive\n"
          ],
          "name": "stdout"
        }
      ]
    },
    {
      "cell_type": "code",
      "metadata": {
        "id": "Ky7Ze1t4VIMi"
      },
      "source": [
        "import os\n",
        "os.chdir(\"/content/drive/My Drive/dataset\")"
      ],
      "execution_count": null,
      "outputs": []
    },
    {
      "cell_type": "code",
      "metadata": {
        "colab": {
          "base_uri": "https://localhost:8080/"
        },
        "id": "nrFLW2d6VIQ8",
        "outputId": "362b38f7-db4b-4444-d046-e6d7a3f8b2b4"
      },
      "source": [
        "!ls"
      ],
      "execution_count": null,
      "outputs": [
        {
          "output_type": "stream",
          "text": [
            "covid  normal\n"
          ],
          "name": "stdout"
        }
      ]
    },
    {
      "cell_type": "code",
      "metadata": {
        "id": "jwmahOzkVITa"
      },
      "source": [
        "from tensorflow.keras.preprocessing.image import ImageDataGenerator\n",
        "from tensorflow.keras.applications import VGG16, DenseNet169, Xception, InceptionV3, DenseNet121, MobileNetV2\n",
        "from tensorflow.keras.layers import AveragePooling2D, GlobalAveragePooling2D\n",
        "from tensorflow.keras.layers import Dropout\n",
        "from tensorflow.keras.layers import Flatten\n",
        "from tensorflow.keras.layers import Dense\n",
        "from tensorflow.keras.layers import Input\n",
        "from tensorflow.keras.models import Model\n",
        "from tensorflow.keras.optimizers import Adam\n",
        "from tensorflow.keras.utils import to_categorical\n",
        "from sklearn.preprocessing import LabelBinarizer\n",
        "from sklearn.model_selection import train_test_split\n",
        "from sklearn.metrics import classification_report\n",
        "from sklearn.metrics import confusion_matrix\n",
        "from imutils import paths\n",
        "import matplotlib.pyplot as plt\n",
        "import numpy as np\n",
        "import cv2\n",
        "import os"
      ],
      "execution_count": null,
      "outputs": []
    },
    {
      "cell_type": "code",
      "metadata": {
        "colab": {
          "base_uri": "https://localhost:8080/"
        },
        "id": "YyfAGjF2VIVy",
        "outputId": "d2e2ef49-8978-4b8c-8205-75469152248e"
      },
      "source": [
        "print(\"[INFO] loading images...\")\n",
        "imagePaths = list(paths.list_images(\"/content/drive/My Drive/dataset\")) #Imp Step\n",
        "data = []\n",
        "labels = []"
      ],
      "execution_count": null,
      "outputs": [
        {
          "output_type": "stream",
          "text": [
            "[INFO] loading images...\n"
          ],
          "name": "stdout"
        }
      ]
    },
    {
      "cell_type": "code",
      "metadata": {
        "id": "2uRUUPt5Wzn4"
      },
      "source": [
        "#imagePaths"
      ],
      "execution_count": null,
      "outputs": []
    },
    {
      "cell_type": "code",
      "metadata": {
        "id": "20Z1wdzQVIY5"
      },
      "source": [
        "for imagePath in imagePaths:\n",
        "  \n",
        "\t# extract the class label from the filename\n",
        "\tlabel = imagePath.split(os.path.sep)[-2]\n",
        "\n",
        "\t# load the image, swap color channels, and resize it to be a fixed\n",
        "\t# 224x224 pixels while ignoring aspect ratio\n",
        "\timage = cv2.imread(imagePath)\n",
        "\timage = cv2.cvtColor(image, cv2.COLOR_BGR2RGB)\n",
        "\timage = cv2.resize(image, (224, 224))\n",
        "\n",
        "\t# update the data and labels lists, respectively\n",
        "\tdata.append(image)\n",
        "\tlabels.append(label) "
      ],
      "execution_count": null,
      "outputs": []
    },
    {
      "cell_type": "code",
      "metadata": {
        "id": "TnSiwXTjVzn9"
      },
      "source": [
        "#print(data)"
      ],
      "execution_count": null,
      "outputs": []
    },
    {
      "cell_type": "code",
      "metadata": {
        "id": "V0dliNScXcCx"
      },
      "source": [
        "data = np.array(data)\n",
        "labels = np.array(labels)"
      ],
      "execution_count": null,
      "outputs": []
    },
    {
      "cell_type": "code",
      "metadata": {
        "id": "Iq66UkK-XcIl"
      },
      "source": [
        "#print(labels)"
      ],
      "execution_count": null,
      "outputs": []
    },
    {
      "cell_type": "code",
      "metadata": {
        "id": "v_ZFXJaybSLk"
      },
      "source": [
        "binary_labels = []\n",
        "one = [1]\n",
        "zero = [0]\n",
        "for i in labels:\n",
        "  if i == 'covid':\n",
        "    binary_labels.append(one)\n",
        "  else:\n",
        "    binary_labels.append(zero)\n"
      ],
      "execution_count": null,
      "outputs": []
    },
    {
      "cell_type": "code",
      "metadata": {
        "id": "GxTAZK3cbSOj"
      },
      "source": [
        "labels = binary_labels"
      ],
      "execution_count": null,
      "outputs": []
    },
    {
      "cell_type": "code",
      "metadata": {
        "id": "m6M5pgHzd9Rx"
      },
      "source": [
        "labels = np.array(labels)"
      ],
      "execution_count": null,
      "outputs": []
    },
    {
      "cell_type": "code",
      "metadata": {
        "colab": {
          "base_uri": "https://localhost:8080/"
        },
        "id": "syQvhuh-bSRC",
        "outputId": "9480c537-b4b0-4504-da9a-b55e97705383"
      },
      "source": [
        "type(labels)"
      ],
      "execution_count": null,
      "outputs": [
        {
          "output_type": "execute_result",
          "data": {
            "text/plain": [
              "numpy.ndarray"
            ]
          },
          "metadata": {
            "tags": []
          },
          "execution_count": 30
        }
      ]
    },
    {
      "cell_type": "code",
      "metadata": {
        "id": "VHzrsNiJjCKl"
      },
      "source": [
        "num_classes = 2\n",
        "input_shape = (224, 224, 3)"
      ],
      "execution_count": null,
      "outputs": []
    },
    {
      "cell_type": "code",
      "metadata": {
        "id": "GqO5fJprcuez"
      },
      "source": [
        "(x_train, x_test, y_train, y_test)  = train_test_split(data, labels,test_size=0.25, stratify=labels, random_state=42)"
      ],
      "execution_count": null,
      "outputs": []
    },
    {
      "cell_type": "code",
      "metadata": {
        "colab": {
          "base_uri": "https://localhost:8080/"
        },
        "id": "q8JWlsERcuh3",
        "outputId": "ca38d7eb-4fc5-4b08-c06b-b3a08607d1cf"
      },
      "source": [
        "print(f\"trainX shape: {x_train.shape} - trainY shape: {y_train.shape}\")\n",
        "print(f\"testY shape: {x_test.shape} - testY shape: {y_test.shape}\")"
      ],
      "execution_count": null,
      "outputs": [
        {
          "output_type": "stream",
          "text": [
            "trainX shape: (304, 224, 224, 3) - trainY shape: (304, 1)\n",
            "testY shape: (102, 224, 224, 3) - testY shape: (102, 1)\n"
          ],
          "name": "stdout"
        }
      ]
    },
    {
      "cell_type": "code",
      "metadata": {
        "colab": {
          "base_uri": "https://localhost:8080/"
        },
        "id": "9tOR266EU0an",
        "outputId": "8b4f1883-1594-4d8e-a0b3-00c0aa831366"
      },
      "source": [
        "pip install tensorflow_addons"
      ],
      "execution_count": null,
      "outputs": [
        {
          "output_type": "stream",
          "text": [
            "Collecting tensorflow_addons\n",
            "\u001b[?25l  Downloading https://files.pythonhosted.org/packages/66/4b/e893d194e626c24b3df2253066aa418f46a432fdb68250cde14bf9bb0700/tensorflow_addons-0.13.0-cp37-cp37m-manylinux2010_x86_64.whl (679kB)\n",
            "\r\u001b[K     |▌                               | 10kB 14.3MB/s eta 0:00:01\r\u001b[K     |█                               | 20kB 20.3MB/s eta 0:00:01\r\u001b[K     |█▌                              | 30kB 25.1MB/s eta 0:00:01\r\u001b[K     |██                              | 40kB 21.2MB/s eta 0:00:01\r\u001b[K     |██▍                             | 51kB 10.8MB/s eta 0:00:01\r\u001b[K     |███                             | 61kB 9.8MB/s eta 0:00:01\r\u001b[K     |███▍                            | 71kB 9.6MB/s eta 0:00:01\r\u001b[K     |███▉                            | 81kB 10.4MB/s eta 0:00:01\r\u001b[K     |████▍                           | 92kB 11.0MB/s eta 0:00:01\r\u001b[K     |████▉                           | 102kB 10.2MB/s eta 0:00:01\r\u001b[K     |█████▎                          | 112kB 10.2MB/s eta 0:00:01\r\u001b[K     |█████▉                          | 122kB 10.2MB/s eta 0:00:01\r\u001b[K     |██████▎                         | 133kB 10.2MB/s eta 0:00:01\r\u001b[K     |██████▊                         | 143kB 10.2MB/s eta 0:00:01\r\u001b[K     |███████▎                        | 153kB 10.2MB/s eta 0:00:01\r\u001b[K     |███████▊                        | 163kB 10.2MB/s eta 0:00:01\r\u001b[K     |████████▏                       | 174kB 10.2MB/s eta 0:00:01\r\u001b[K     |████████▊                       | 184kB 10.2MB/s eta 0:00:01\r\u001b[K     |█████████▏                      | 194kB 10.2MB/s eta 0:00:01\r\u001b[K     |█████████▋                      | 204kB 10.2MB/s eta 0:00:01\r\u001b[K     |██████████▏                     | 215kB 10.2MB/s eta 0:00:01\r\u001b[K     |██████████▋                     | 225kB 10.2MB/s eta 0:00:01\r\u001b[K     |███████████                     | 235kB 10.2MB/s eta 0:00:01\r\u001b[K     |███████████▋                    | 245kB 10.2MB/s eta 0:00:01\r\u001b[K     |████████████                    | 256kB 10.2MB/s eta 0:00:01\r\u001b[K     |████████████▌                   | 266kB 10.2MB/s eta 0:00:01\r\u001b[K     |█████████████                   | 276kB 10.2MB/s eta 0:00:01\r\u001b[K     |█████████████▌                  | 286kB 10.2MB/s eta 0:00:01\r\u001b[K     |██████████████                  | 296kB 10.2MB/s eta 0:00:01\r\u001b[K     |██████████████▌                 | 307kB 10.2MB/s eta 0:00:01\r\u001b[K     |███████████████                 | 317kB 10.2MB/s eta 0:00:01\r\u001b[K     |███████████████▍                | 327kB 10.2MB/s eta 0:00:01\r\u001b[K     |████████████████                | 337kB 10.2MB/s eta 0:00:01\r\u001b[K     |████████████████▍               | 348kB 10.2MB/s eta 0:00:01\r\u001b[K     |████████████████▉               | 358kB 10.2MB/s eta 0:00:01\r\u001b[K     |█████████████████▍              | 368kB 10.2MB/s eta 0:00:01\r\u001b[K     |█████████████████▉              | 378kB 10.2MB/s eta 0:00:01\r\u001b[K     |██████████████████▎             | 389kB 10.2MB/s eta 0:00:01\r\u001b[K     |██████████████████▉             | 399kB 10.2MB/s eta 0:00:01\r\u001b[K     |███████████████████▎            | 409kB 10.2MB/s eta 0:00:01\r\u001b[K     |███████████████████▊            | 419kB 10.2MB/s eta 0:00:01\r\u001b[K     |████████████████████▎           | 430kB 10.2MB/s eta 0:00:01\r\u001b[K     |████████████████████▊           | 440kB 10.2MB/s eta 0:00:01\r\u001b[K     |█████████████████████▏          | 450kB 10.2MB/s eta 0:00:01\r\u001b[K     |█████████████████████▊          | 460kB 10.2MB/s eta 0:00:01\r\u001b[K     |██████████████████████▏         | 471kB 10.2MB/s eta 0:00:01\r\u001b[K     |██████████████████████▋         | 481kB 10.2MB/s eta 0:00:01\r\u001b[K     |███████████████████████▏        | 491kB 10.2MB/s eta 0:00:01\r\u001b[K     |███████████████████████▋        | 501kB 10.2MB/s eta 0:00:01\r\u001b[K     |████████████████████████        | 512kB 10.2MB/s eta 0:00:01\r\u001b[K     |████████████████████████▋       | 522kB 10.2MB/s eta 0:00:01\r\u001b[K     |█████████████████████████       | 532kB 10.2MB/s eta 0:00:01\r\u001b[K     |█████████████████████████▌      | 542kB 10.2MB/s eta 0:00:01\r\u001b[K     |██████████████████████████      | 552kB 10.2MB/s eta 0:00:01\r\u001b[K     |██████████████████████████▌     | 563kB 10.2MB/s eta 0:00:01\r\u001b[K     |███████████████████████████     | 573kB 10.2MB/s eta 0:00:01\r\u001b[K     |███████████████████████████▌    | 583kB 10.2MB/s eta 0:00:01\r\u001b[K     |████████████████████████████    | 593kB 10.2MB/s eta 0:00:01\r\u001b[K     |████████████████████████████▍   | 604kB 10.2MB/s eta 0:00:01\r\u001b[K     |█████████████████████████████   | 614kB 10.2MB/s eta 0:00:01\r\u001b[K     |█████████████████████████████▍  | 624kB 10.2MB/s eta 0:00:01\r\u001b[K     |█████████████████████████████▉  | 634kB 10.2MB/s eta 0:00:01\r\u001b[K     |██████████████████████████████▍ | 645kB 10.2MB/s eta 0:00:01\r\u001b[K     |██████████████████████████████▉ | 655kB 10.2MB/s eta 0:00:01\r\u001b[K     |███████████████████████████████▎| 665kB 10.2MB/s eta 0:00:01\r\u001b[K     |███████████████████████████████▉| 675kB 10.2MB/s eta 0:00:01\r\u001b[K     |████████████████████████████████| 686kB 10.2MB/s \n",
            "\u001b[?25hRequirement already satisfied: typeguard>=2.7 in /usr/local/lib/python3.7/dist-packages (from tensorflow_addons) (2.7.1)\n",
            "Installing collected packages: tensorflow-addons\n",
            "Successfully installed tensorflow-addons-0.13.0\n"
          ],
          "name": "stdout"
        }
      ]
    },
    {
      "cell_type": "code",
      "metadata": {
        "id": "MDg2MXI0U0c-"
      },
      "source": [
        "import numpy as np\n",
        "import tensorflow as tf\n",
        "from tensorflow import keras\n",
        "from tensorflow.keras import layers\n",
        "import tensorflow_addons as tfa"
      ],
      "execution_count": null,
      "outputs": []
    },
    {
      "cell_type": "code",
      "metadata": {
        "id": "BYFP1bhMU0fS"
      },
      "source": [
        "#Lets rock "
      ],
      "execution_count": null,
      "outputs": []
    },
    {
      "cell_type": "code",
      "metadata": {
        "id": "D_KqF5KQUvK9"
      },
      "source": [
        "learning_rate = 0.001\n",
        "weight_decay = 0.0001\n",
        "batch_size = 256\n",
        "num_epochs = 5 #VV\n",
        "image_size = 72  # We'll resize input images to this size\n",
        "patch_size = 6  # Size of the patches to be extract from the input images\n",
        "num_patches = (image_size // patch_size) ** 2\n",
        "projection_dim = 64\n",
        "num_heads = 4\n",
        "transformer_units = [\n",
        "    projection_dim * 2,\n",
        "    projection_dim,\n",
        "]  # Size of the transformer layers\n",
        "transformer_layers = 8\n",
        "mlp_head_units = [2048, 1024]  # Size of the dense layers of the final classifier"
      ],
      "execution_count": null,
      "outputs": []
    },
    {
      "cell_type": "code",
      "metadata": {
        "id": "epUdIJPLerY5"
      },
      "source": [
        "data_augmentation = keras.Sequential(\n",
        "    [\n",
        "        layers.experimental.preprocessing.Normalization(),\n",
        "        layers.experimental.preprocessing.Resizing(image_size, image_size),\n",
        "        layers.experimental.preprocessing.RandomFlip(\"horizontal\"),\n",
        "        layers.experimental.preprocessing.RandomRotation(factor=0.02),\n",
        "        layers.experimental.preprocessing.RandomZoom(\n",
        "            height_factor=0.2, width_factor=0.2\n",
        "        ),\n",
        "    ],\n",
        "    name=\"data_augmentation\",\n",
        ")\n",
        "# Compute the mean and the variance of the training data for normalization.\n",
        "data_augmentation.layers[0].adapt(x_train)"
      ],
      "execution_count": null,
      "outputs": []
    },
    {
      "cell_type": "code",
      "metadata": {
        "id": "haMzWvdlerbh"
      },
      "source": [
        "def mlp(x, hidden_units, dropout_rate):\n",
        "    for units in hidden_units:\n",
        "        x = layers.Dense(units, activation=tf.nn.gelu)(x)\n",
        "        x = layers.Dropout(dropout_rate)(x)\n",
        "    return x"
      ],
      "execution_count": null,
      "outputs": []
    },
    {
      "cell_type": "code",
      "metadata": {
        "id": "iEVxzFfjerfn"
      },
      "source": [
        "class Patches(layers.Layer):\n",
        "    def __init__(self, patch_size):\n",
        "        super(Patches, self).__init__()\n",
        "        self.patch_size = patch_size\n",
        "\n",
        "    def call(self, images):\n",
        "        batch_size = tf.shape(images)[0]\n",
        "        patches = tf.image.extract_patches(\n",
        "            images=images,\n",
        "            sizes=[1, self.patch_size, self.patch_size, 1],\n",
        "            strides=[1, self.patch_size, self.patch_size, 1],\n",
        "            rates=[1, 1, 1, 1],\n",
        "            padding=\"VALID\",\n",
        "        )\n",
        "        patch_dims = patches.shape[-1]\n",
        "        patches = tf.reshape(patches, [batch_size, -1, patch_dims])\n",
        "        return patches"
      ],
      "execution_count": null,
      "outputs": []
    },
    {
      "cell_type": "code",
      "metadata": {
        "colab": {
          "base_uri": "https://localhost:8080/",
          "height": 547
        },
        "id": "_TrzmQHcerjP",
        "outputId": "00cef208-a871-42c9-f541-8bfa5f74b294"
      },
      "source": [
        "import matplotlib.pyplot as plt\n",
        "\n",
        "plt.figure(figsize=(4, 4))\n",
        "image = x_train[np.random.choice(range(x_train.shape[0]))]\n",
        "plt.imshow(image.astype(\"uint8\"))\n",
        "plt.axis(\"off\")\n",
        "\n",
        "resized_image = tf.image.resize(\n",
        "    tf.convert_to_tensor([image]), size=(image_size, image_size)\n",
        ")\n",
        "patches = Patches(patch_size)(resized_image)\n",
        "print(f\"Image size: {image_size} X {image_size}\")\n",
        "print(f\"Patch size: {patch_size} X {patch_size}\")\n",
        "print(f\"Patches per image: {patches.shape[1]}\")\n",
        "print(f\"Elements per patch: {patches.shape[-1]}\")\n",
        "\n",
        "n = int(np.sqrt(patches.shape[1]))\n",
        "plt.figure(figsize=(4, 4))\n",
        "for i, patch in enumerate(patches[0]):\n",
        "    ax = plt.subplot(n, n, i + 1)\n",
        "    patch_img = tf.reshape(patch, (patch_size, patch_size, 3))\n",
        "    plt.imshow(patch_img.numpy().astype(\"uint8\"))\n",
        "    plt.axis(\"off\")"
      ],
      "execution_count": null,
      "outputs": [
        {
          "output_type": "stream",
          "text": [
            "Image size: 72 X 72\n",
            "Patch size: 6 X 6\n",
            "Patches per image: 144\n",
            "Elements per patch: 108\n"
          ],
          "name": "stdout"
        },
        {
          "output_type": "display_data",
          "data": {
            "image/png": "[encoded data removed]",
            "text/plain": [
              "<Figure size 288x288 with 1 Axes>"
            ]
          },
          "metadata": {
            "tags": [],
            "needs_background": "light"
          }
        },
        {
          "output_type": "display_data",
          "data": {
            "image/png": "[encoded data removed]",
            "text/plain": [
              "<Figure size 288x288 with 144 Axes>"
            ]
          },
          "metadata": {
            "tags": [],
            "needs_background": "light"
          }
        }
      ]
    },
    {
      "cell_type": "code",
      "metadata": {
        "id": "RmRo4nWJe1AB"
      },
      "source": [
        "class PatchEncoder(layers.Layer):\n",
        "    def __init__(self, num_patches, projection_dim):\n",
        "        super(PatchEncoder, self).__init__()\n",
        "        self.num_patches = num_patches\n",
        "        self.projection = layers.Dense(units=projection_dim)\n",
        "        self.position_embedding = layers.Embedding(\n",
        "            input_dim=num_patches, output_dim=projection_dim\n",
        "        )\n",
        "\n",
        "    def call(self, patch):\n",
        "        positions = tf.range(start=0, limit=self.num_patches, delta=1)\n",
        "        encoded = self.projection(patch) + self.position_embedding(positions)\n",
        "        return encoded"
      ],
      "execution_count": null,
      "outputs": []
    },
    {
      "cell_type": "code",
      "metadata": {
        "id": "RwuI--O_e1Cp"
      },
      "source": [
        "def create_vit_classifier():\n",
        "    inputs = layers.Input(shape=input_shape)\n",
        "    # Augment data.\n",
        "    augmented = data_augmentation(inputs)\n",
        "    # Create patches.\n",
        "    patches = Patches(patch_size)(augmented)\n",
        "    # Encode patches.\n",
        "    encoded_patches = PatchEncoder(num_patches, projection_dim)(patches)\n",
        "\n",
        "    # Create multiple layers of the Transformer block.\n",
        "    for _ in range(transformer_layers):\n",
        "        # Layer normalization 1.\n",
        "        x1 = layers.LayerNormalization(epsilon=1e-6)(encoded_patches)\n",
        "        # Create a multi-head attention layer.\n",
        "        attention_output = layers.MultiHeadAttention(\n",
        "            num_heads=num_heads, key_dim=projection_dim, dropout=0.1\n",
        "        )(x1, x1)\n",
        "        # Skip connection 1.\n",
        "        x2 = layers.Add()([attention_output, encoded_patches])\n",
        "        # Layer normalization 2.\n",
        "        x3 = layers.LayerNormalization(epsilon=1e-6)(x2)\n",
        "        # MLP.\n",
        "        x3 = mlp(x3, hidden_units=transformer_units, dropout_rate=0.1)\n",
        "        # Skip connection 2.\n",
        "        encoded_patches = layers.Add()([x3, x2])\n",
        "\n",
        "    # Create a [batch_size, projection_dim] tensor.\n",
        "    representation = layers.LayerNormalization(epsilon=1e-6)(encoded_patches)\n",
        "    representation = layers.Flatten()(representation)\n",
        "    representation = layers.Dropout(0.5)(representation)\n",
        "    # Add MLP.\n",
        "    features = mlp(representation, hidden_units=mlp_head_units, dropout_rate=0.5)\n",
        "    # Classify outputs.\n",
        "    logits = layers.Dense(num_classes)(features)\n",
        "    # Create the Keras model.\n",
        "    model = keras.Model(inputs=inputs, outputs=logits)\n",
        "    return model"
      ],
      "execution_count": null,
      "outputs": []
    },
    {
      "cell_type": "code",
      "metadata": {
        "colab": {
          "base_uri": "https://localhost:8080/"
        },
        "id": "Hw0Enf05e1Fa",
        "outputId": "db94df1d-2a63-435c-a1bc-75ad601eec2b"
      },
      "source": [
        "def run_experiment(model):\n",
        "    optimizer = tfa.optimizers.AdamW(\n",
        "        learning_rate=learning_rate, weight_decay=weight_decay\n",
        "    )\n",
        "\n",
        "    model.compile(\n",
        "        optimizer=optimizer,\n",
        "        loss=keras.losses.SparseCategoricalCrossentropy(from_logits=True),\n",
        "        metrics=[\n",
        "            keras.metrics.SparseCategoricalAccuracy(name=\"accuracy\"),\n",
        "            keras.metrics.SparseTopKCategoricalAccuracy(5, name=\"top-5-accuracy\"),\n",
        "        ],\n",
        "    )\n",
        "\n",
        "    checkpoint_filepath = \"/tmp/checkpoint\"\n",
        "    checkpoint_callback = keras.callbacks.ModelCheckpoint(\n",
        "        checkpoint_filepath,\n",
        "        monitor=\"val_accuracy\",\n",
        "        save_best_only=True,\n",
        "        save_weights_only=True,\n",
        "    )\n",
        "\n",
        "    history = model.fit(\n",
        "        x=x_train,\n",
        "        y=y_train,\n",
        "        batch_size=batch_size,\n",
        "        epochs=num_epochs,\n",
        "        validation_split=0.1,\n",
        "        callbacks=[checkpoint_callback],\n",
        "    )\n",
        "\n",
        "    model.load_weights(checkpoint_filepath)\n",
        "    _, accuracy, top_5_accuracy = model.evaluate(x_test, y_test)\n",
        "    print(f\"Test accuracy: {round(accuracy * 100, 2)}%\")\n",
        "    print(f\"Test top 5 accuracy: {round(top_5_accuracy * 100, 2)}%\")\n",
        "\n",
        "    return history\n",
        "\n",
        "\n",
        "vit_classifier = create_vit_classifier()\n",
        "History = run_experiment(vit_classifier)"
      ],
      "execution_count": null,
      "outputs": [
        {
          "output_type": "stream",
          "text": [
            "Epoch 1/5\n",
            "2/2 [==============================] - 41s 5s/step - loss: 2.0954 - accuracy: 0.4615 - top-5-accuracy: 1.0000 - val_loss: 0.6385 - val_accuracy: 0.9355 - val_top-5-accuracy: 1.0000\n",
            "Epoch 2/5\n",
            "2/2 [==============================] - 18s 2s/step - loss: 0.5171 - accuracy: 0.9341 - top-5-accuracy: 1.0000 - val_loss: 0.8392 - val_accuracy: 0.9355 - val_top-5-accuracy: 1.0000\n",
            "Epoch 3/5\n",
            "2/2 [==============================] - 16s 2s/step - loss: 0.9482 - accuracy: 0.9048 - top-5-accuracy: 1.0000 - val_loss: 0.2402 - val_accuracy: 0.9677 - val_top-5-accuracy: 1.0000\n",
            "Epoch 4/5\n",
            "2/2 [==============================] - 16s 2s/step - loss: 0.3400 - accuracy: 0.9560 - top-5-accuracy: 1.0000 - val_loss: 1.7291 - val_accuracy: 0.9355 - val_top-5-accuracy: 1.0000\n",
            "Epoch 5/5\n",
            "2/2 [==============================] - 16s 2s/step - loss: 0.8706 - accuracy: 0.9707 - top-5-accuracy: 1.0000 - val_loss: 1.4967 - val_accuracy: 0.9677 - val_top-5-accuracy: 1.0000\n",
            "4/4 [==============================] - 2s 436ms/step - loss: 0.0371 - accuracy: 0.9902 - top-5-accuracy: 1.0000\n",
            "Test accuracy: 99.02%\n",
            "Test top 5 accuracy: 100.0%\n"
          ],
          "name": "stdout"
        }
      ]
    },
    {
      "cell_type": "code",
      "metadata": {
        "id": "vscQT-41e1KL"
      },
      "source": [
        ""
      ],
      "execution_count": null,
      "outputs": []
    },
    {
      "cell_type": "code",
      "metadata": {
        "id": "KFE5VAwb0sWF"
      },
      "source": [
        ""
      ],
      "execution_count": null,
      "outputs": []
    },
    {
      "cell_type": "code",
      "metadata": {
        "id": "_eE2WtHoe1MY"
      },
      "source": [
        ""
      ],
      "execution_count": null,
      "outputs": []
    }
  ]
}